{
 "cells": [
  {
   "cell_type": "code",
   "execution_count": 12,
   "metadata": {},
   "outputs": [],
   "source": [
    "from matplotlib import pyplot as plt\n",
    "import pandas as pd\n",
    "import numpy as np\n",
    "from os import path as osp\n",
    "#import seaborn as sns\n",
    "#sns.set(style=\"whitegrid\")\n",
    "\n"
   ]
  },
  {
   "cell_type": "code",
   "execution_count": 16,
   "metadata": {},
   "outputs": [],
   "source": [
    "study='FoodReg3'\n",
    "# plot taste and health weights on choice=\n",
    "choiceBetas = pd.read_csv('D:\\\\Work\\\\Sampling_attetion\\\\Azadeh_data\\\\result\\\\result.csv')\n",
    "#get rid of the Unnamed column\n",
    "choiceBetas = choiceBetas.drop(choiceBetas.columns[0],axis=1)\n",
    "#get rid of - in column labels to be possible to call\n",
    "cols = list(choiceBetas.columns)\n",
    "for c in range(len(cols)):\n",
    "    cols[c] = cols[c].replace('-','')\n",
    "choiceBetas.columns = cols\n",
    "\n",
    "#[cols[c] = cols[c].replace('-','') for c in range(len(cols))]\n",
    "condsOld = ['nat','health','desire']\n",
    "condsNew = ['NATURAL','HEALTH','DESIRE']\n",
    "attsOld  = ['Taste','Health']\n",
    "attsNew  = ['Tastiness','Healthiness']\n",
    "colors   = ['royalblue','salmon','gold']\n",
    "\n",
    "\n"
   ]
  },
  {
   "cell_type": "code",
   "execution_count": 22,
   "metadata": {},
   "outputs": [
    {
     "data": {
      "text/html": [
       "<div>\n",
       "<style scoped>\n",
       "    .dataframe tbody tr th:only-of-type {\n",
       "        vertical-align: middle;\n",
       "    }\n",
       "\n",
       "    .dataframe tbody tr th {\n",
       "        vertical-align: top;\n",
       "    }\n",
       "\n",
       "    .dataframe thead th {\n",
       "        text-align: right;\n",
       "    }\n",
       "</style>\n",
       "<table border=\"1\" class=\"dataframe\">\n",
       "  <thead>\n",
       "    <tr style=\"text-align: right;\">\n",
       "      <th></th>\n",
       "      <th>Subject</th>\n",
       "      <th>natTaste</th>\n",
       "      <th>natHealth</th>\n",
       "      <th>healthTaste</th>\n",
       "      <th>healthHealth</th>\n",
       "      <th>desireTaste</th>\n",
       "      <th>desireHealth</th>\n",
       "    </tr>\n",
       "  </thead>\n",
       "  <tbody>\n",
       "    <tr>\n",
       "      <th>0</th>\n",
       "      <td>104</td>\n",
       "      <td>0.536485</td>\n",
       "      <td>-0.097504</td>\n",
       "      <td>0.335037</td>\n",
       "      <td>0.004892</td>\n",
       "      <td>0.442298</td>\n",
       "      <td>-0.021254</td>\n",
       "    </tr>\n",
       "    <tr>\n",
       "      <th>1</th>\n",
       "      <td>105</td>\n",
       "      <td>0.683596</td>\n",
       "      <td>0.069814</td>\n",
       "      <td>0.148204</td>\n",
       "      <td>0.651576</td>\n",
       "      <td>0.300603</td>\n",
       "      <td>0.161650</td>\n",
       "    </tr>\n",
       "    <tr>\n",
       "      <th>2</th>\n",
       "      <td>106</td>\n",
       "      <td>0.367844</td>\n",
       "      <td>-0.069681</td>\n",
       "      <td>0.336438</td>\n",
       "      <td>0.141762</td>\n",
       "      <td>0.361902</td>\n",
       "      <td>-0.064926</td>\n",
       "    </tr>\n",
       "    <tr>\n",
       "      <th>3</th>\n",
       "      <td>107</td>\n",
       "      <td>0.420243</td>\n",
       "      <td>0.277318</td>\n",
       "      <td>0.152375</td>\n",
       "      <td>0.600249</td>\n",
       "      <td>0.438220</td>\n",
       "      <td>0.329368</td>\n",
       "    </tr>\n",
       "    <tr>\n",
       "      <th>4</th>\n",
       "      <td>111</td>\n",
       "      <td>0.699456</td>\n",
       "      <td>-0.034353</td>\n",
       "      <td>0.637020</td>\n",
       "      <td>0.170911</td>\n",
       "      <td>0.523810</td>\n",
       "      <td>-0.021174</td>\n",
       "    </tr>\n",
       "  </tbody>\n",
       "</table>\n",
       "</div>"
      ],
      "text/plain": [
       "   Subject  natTaste  natHealth  healthTaste  healthHealth  desireTaste  \\\n",
       "0      104  0.536485  -0.097504     0.335037      0.004892     0.442298   \n",
       "1      105  0.683596   0.069814     0.148204      0.651576     0.300603   \n",
       "2      106  0.367844  -0.069681     0.336438      0.141762     0.361902   \n",
       "3      107  0.420243   0.277318     0.152375      0.600249     0.438220   \n",
       "4      111  0.699456  -0.034353     0.637020      0.170911     0.523810   \n",
       "\n",
       "   desireHealth  \n",
       "0     -0.021254  \n",
       "1      0.161650  \n",
       "2     -0.064926  \n",
       "3      0.329368  \n",
       "4     -0.021174  "
      ]
     },
     "execution_count": 22,
     "metadata": {},
     "output_type": "execute_result"
    }
   ],
   "source": [
    "choiceBetas.head()"
   ]
  },
  {
   "cell_type": "code",
   "execution_count": 30,
   "metadata": {},
   "outputs": [
    {
     "data": {
      "image/png": "[encoded data removed]",
      "text/plain": [
       "<Figure size 432x288 with 1 Axes>"
      ]
     },
     "metadata": {
      "needs_background": "light"
     },
     "output_type": "display_data"
    }
   ],
   "source": [
    "fig, ax = plt.subplots()\n",
    "width = .4\n",
    "x = np.asarray([0,2])\n",
    "dist = [-1,0,1]\n",
    "for c in range(len(condsNew)):\n",
    "    y = list()\n",
    "    ysd = list()\n",
    "    [y.append(np.mean(choiceBetas[condsOld[c]+attsOld[a]])) for a in range(len(attsOld))]\n",
    "    [ysd.append(np.std(choiceBetas[condsOld[c]+attsOld[a]])/np.sqrt(choiceBetas.shape[0])) for a in range(len(attsOld))]\n",
    "    ax.bar(x+np.asarray(dist[c])*width,y,width,label =condsNew[c],color=colors[c])\n",
    "    ax.errorbar(x+np.asarray(dist[c])*width,y,yerr=ysd,ecolor='k',fmt='none')\n",
    "\n",
    "ax.set_ylabel('choice betas',fontdict={'fontsize':16,'fontweight': 'bold'})\n",
    "ax.set_title(study+ ', N='+str(choiceBetas.shape[0]),fontdict={'fontsize':20,'fontweight': 'bold'})\n",
    "ax.set_xticks(x)\n",
    "ax.set_xticklabels(attsNew,fontdict={'fontsize':14,'fontweight': 'bold'})\n",
    "#remove top frame border\n",
    "ax.spines['top'].set_visible(False)\n",
    "#remove right frame border\n",
    "ax.spines['right'].set_visible(False)\n",
    "plt.legend(fontsize = 12, prop = {'weight':'bold'},frameon=False)\n",
    "ax.grid(b=None)\n",
    "plt.show()\n",
    "\n",
    "# savefile = osp.join('Figures','choiceBetas.png')\n",
    "# fig.savefig(savefile)"
   ]
  },
  {
   "cell_type": "code",
   "execution_count": 24,
   "metadata": {},
   "outputs": [
    {
     "data": {
      "text/plain": [
       "<ErrorbarContainer object of 3 artists>"
      ]
     },
     "execution_count": 24,
     "metadata": {},
     "output_type": "execute_result"
    }
   ],
   "source": [
    "att"
   ]
  },
  {
   "cell_type": "code",
   "execution_count": null,
   "metadata": {},
   "outputs": [],
   "source": []
  }
 ],
 "metadata": {
  "kernelspec": {
   "display_name": "Python 3",
   "language": "python",
   "name": "python3"
  },
  "language_info": {
   "codemirror_mode": {
    "name": "ipython",
    "version": 3
   },
   "file_extension": ".py",
   "mimetype": "text/x-python",
   "name": "python",
   "nbconvert_exporter": "python",
   "pygments_lexer": "ipython3",
   "version": "3.8.2"
  }
 },
 "nbformat": 4,
 "nbformat_minor": 4
}
