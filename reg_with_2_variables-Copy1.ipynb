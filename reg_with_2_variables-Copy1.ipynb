{
 "cells": [
  {
   "cell_type": "code",
   "execution_count": 1,
   "metadata": {},
   "outputs": [],
   "source": [
    "from matplotlib import pyplot as plt\n",
    "import pandas as pd\n",
    "import numpy as np\n",
    "from os import path as osp\n",
    "import os\n",
    "import Regression as reg\n",
    "from sklearn.linear_model import LinearRegression, LogisticRegression"
   ]
  },
  {
   "cell_type": "code",
   "execution_count": 2,
   "metadata": {},
   "outputs": [],
   "source": [
    "Variable_1 = '-health_diff'\n",
    "Variable_2 = '-taste_diff'\n",
    "\n",
    "path2csv = \"D:\\Work\\Sampling_attetion\\Azadeh_data\\\\data\\\\\"\n",
    "RegBetascsv = \"D:\\\\Work\\\\Sampling_attetion\\\\Azadeh_data\\\\result\" + \"\\\\result_diff\" + Variable_1 + Variable_2 + \".csv\"\n",
    "inst = ['nat','health','desire']\n",
    "DV = \"Choice\" "
   ]
  },
  {
   "cell_type": "code",
   "execution_count": 11,
   "metadata": {},
   "outputs": [
    {
     "name": "stdout",
     "output_type": "stream",
     "text": [
      "D:\\Work\\Sampling_attetion\\Azadeh_data\\data\\104.xls\n",
      "D:\\Work\\Sampling_attetion\\Azadeh_data\\data\\105.xls\n",
      "D:\\Work\\Sampling_attetion\\Azadeh_data\\data\\106.xls\n",
      "D:\\Work\\Sampling_attetion\\Azadeh_data\\data\\107.xls\n",
      "D:\\Work\\Sampling_attetion\\Azadeh_data\\data\\111.xls\n",
      "D:\\Work\\Sampling_attetion\\Azadeh_data\\data\\112.xls\n",
      "D:\\Work\\Sampling_attetion\\Azadeh_data\\data\\113.xls\n",
      "D:\\Work\\Sampling_attetion\\Azadeh_data\\data\\114.xls\n",
      "D:\\Work\\Sampling_attetion\\Azadeh_data\\data\\115.xls\n",
      "D:\\Work\\Sampling_attetion\\Azadeh_data\\data\\116.xls\n",
      "D:\\Work\\Sampling_attetion\\Azadeh_data\\data\\117.xls\n",
      "D:\\Work\\Sampling_attetion\\Azadeh_data\\data\\118.xls\n",
      "D:\\Work\\Sampling_attetion\\Azadeh_data\\data\\119.xls\n",
      "D:\\Work\\Sampling_attetion\\Azadeh_data\\data\\120.xls\n",
      "D:\\Work\\Sampling_attetion\\Azadeh_data\\data\\121.xls\n",
      "D:\\Work\\Sampling_attetion\\Azadeh_data\\data\\122.xls\n",
      "D:\\Work\\Sampling_attetion\\Azadeh_data\\data\\123.xls\n",
      "D:\\Work\\Sampling_attetion\\Azadeh_data\\data\\124.xls\n",
      "D:\\Work\\Sampling_attetion\\Azadeh_data\\data\\125.xls\n",
      "D:\\Work\\Sampling_attetion\\Azadeh_data\\data\\126.xls\n",
      "D:\\Work\\Sampling_attetion\\Azadeh_data\\data\\127.xls\n",
      "D:\\Work\\Sampling_attetion\\Azadeh_data\\data\\129.xls\n",
      "D:\\Work\\Sampling_attetion\\Azadeh_data\\data\\130.xls\n",
      "D:\\Work\\Sampling_attetion\\Azadeh_data\\data\\134.xls\n",
      "D:\\Work\\Sampling_attetion\\Azadeh_data\\data\\135.xls\n",
      "D:\\Work\\Sampling_attetion\\Azadeh_data\\data\\136.xls\n",
      "D:\\Work\\Sampling_attetion\\Azadeh_data\\data\\137.xls\n",
      "D:\\Work\\Sampling_attetion\\Azadeh_data\\data\\138.xls\n",
      "D:\\Work\\Sampling_attetion\\Azadeh_data\\data\\140.xls\n",
      "D:\\Work\\Sampling_attetion\\Azadeh_data\\data\\141.xls\n",
      "D:\\Work\\Sampling_attetion\\Azadeh_data\\data\\142.xls\n",
      "D:\\Work\\Sampling_attetion\\Azadeh_data\\data\\143.xls\n",
      "D:\\Work\\Sampling_attetion\\Azadeh_data\\data\\144.xls\n",
      "D:\\Work\\Sampling_attetion\\Azadeh_data\\data\\145.xls\n",
      "D:\\Work\\Sampling_attetion\\Azadeh_data\\data\\146.xls\n",
      "D:\\Work\\Sampling_attetion\\Azadeh_data\\data\\148.xls\n",
      "D:\\Work\\Sampling_attetion\\Azadeh_data\\data\\150.xls\n",
      "D:\\Work\\Sampling_attetion\\Azadeh_data\\data\\151.xls\n",
      "D:\\Work\\Sampling_attetion\\Azadeh_data\\data\\153.xls\n",
      "D:\\Work\\Sampling_attetion\\Azadeh_data\\data\\155.xls\n",
      "D:\\Work\\Sampling_attetion\\Azadeh_data\\data\\156.xls\n",
      "D:\\Work\\Sampling_attetion\\Azadeh_data\\data\\157.xls\n",
      "D:\\Work\\Sampling_attetion\\Azadeh_data\\data\\158.xls\n",
      "D:\\Work\\Sampling_attetion\\Azadeh_data\\data\\159.xls\n",
      "D:\\Work\\Sampling_attetion\\Azadeh_data\\data\\161.xls\n",
      "D:\\Work\\Sampling_attetion\\Azadeh_data\\data\\162.xls\n",
      "D:\\Work\\Sampling_attetion\\Azadeh_data\\data\\163.xls\n",
      "D:\\Work\\Sampling_attetion\\Azadeh_data\\data\\164.xls\n",
      "D:\\Work\\Sampling_attetion\\Azadeh_data\\data\\165.xls\n",
      "D:\\Work\\Sampling_attetion\\Azadeh_data\\data\\166.xls\n"
     ]
    }
   ],
   "source": [
    "shortInst = inst\n",
    "dirList = os.listdir(path2csv)\n",
    "RegBetas ={'Subject':[],\n",
    "         shortInst[0]+'-Taste':[],shortInst[0]+'-Health':[], shortInst[0]+ Variable_1:[], shortInst[0]+ Variable_2:[],\\\n",
    "         shortInst[1]+'-Taste':[],shortInst[1]+'-Health':[], shortInst[1]+ Variable_1:[], shortInst[1]+ Variable_2:[],\\\n",
    "         shortInst[2]+'-Taste':[],shortInst[2]+'-Health':[], shortInst[2]+ Variable_1:[], shortInst[2]+ Variable_2:[]}\n",
    "\n",
    "\n",
    "for s in range(len(dirList)):\n",
    "\n",
    "    print (path2csv + dirList[s])\n",
    "    data = pd.read_excel(path2csv + dirList[s]) \n",
    "    RegBetas['Subject'].append(int(dirList[s][:len(dirList[0])-4]))\n",
    "    data = data.dropna()\n",
    "    for ins in shortInst:\n",
    "        cond = data.instruction == inst[shortInst.index(ins)]\n",
    "        X       = np.zeros((len(data.trial[cond]) - 1,4))\n",
    "        data\n",
    "        X[:,0]  = data.taste[cond][1:]\n",
    "        X[:,1]  = data.health[cond][1:]\n",
    "        X[:,2]  = data['health'][cond].diff()[1:]\n",
    "        X[:,3]  = data['taste'][cond].diff()[1:]\n",
    "\n",
    "       \n",
    "        Y = data.choice[cond][1:].reset_index(drop=True) == data.choice[cond][0:-1].reset_index(drop=True)\n",
    "        Y[Y == True] = 1\n",
    "        Y[Y == False] = 0\n",
    "        \n",
    "        whichTr = [list(~np.isnan(X[:,0]))[t]  and list(~np.isnan(X[:,1]))[t] and\\\n",
    "        list(~np.isnan(Y))[t] for t in range(len(Y))]\n",
    "\n",
    "        if any(whichTr):\n",
    "            Y = Y[whichTr]\n",
    "            X = X[whichTr,:]\n",
    "\n",
    "            reg      = LogisticRegression().fit(X,Y)\n",
    "            RegBetas[ins +'-Taste'].append(reg.coef_[0][0])\n",
    "            RegBetas[ins +'-Health'].append(reg.coef_[0][1])\n",
    "            RegBetas[ins + Variable_1].append(reg.coef_[0][2])\n",
    "            RegBetas[ins + Variable_2].append(reg.coef_[0][3])\n",
    "\n",
    "\n"
   ]
  },
  {
   "cell_type": "code",
   "execution_count": 12,
   "metadata": {},
   "outputs": [],
   "source": [
    "temp = pd.DataFrame.from_dict(RegBetas)\n",
    "temp.to_csv(RegBetascsv)"
   ]
  },
  {
   "cell_type": "code",
   "execution_count": 17,
   "metadata": {},
   "outputs": [],
   "source": [
    "study='What effect the stay behavior?'\n",
    "# plot taste and health weights on choice=\n",
    "choiceBetas = pd.read_csv(\"D:\\\\Work\\\\Sampling_attetion\\\\Azadeh_data\\\\result\" + \"\\\\result_diff\" + Variable_1 + Variable_2 + \".csv\")\n",
    "#get rid of the Unnamed column\n",
    "choiceBetas = choiceBetas.drop(choiceBetas.columns[0],axis=1)\n",
    "#get rid of - in column labels to be possible to call\n",
    "cols = list(choiceBetas.columns)\n",
    "for c in range(len(cols)):\n",
    "    cols[c] = cols[c].replace('-','')\n",
    "choiceBetas.columns = cols\n",
    "\n",
    "#[cols[c] = cols[c].replace('-','') for c in range(len(cols))]\n",
    "condsOld = ['nat','health','desire']\n",
    "condsNew = ['NATURAL','HEALTH','DESIRE']\n",
    "attsOld  = ['Taste','Health', Variable_1[1:], Variable_2[1:]]\n",
    "attsNew  = ['Tastiness','Healthiness', 'H diff', 'T diff']\n",
    "colors   = ['royalblue','salmon','gold']"
   ]
  },
  {
   "cell_type": "code",
   "execution_count": 18,
   "metadata": {},
   "outputs": [
    {
     "data": {
      "image/png": "[encoded data removed]",
      "text/plain": [
       "<Figure size 432x288 with 1 Axes>"
      ]
     },
     "metadata": {
      "needs_background": "light"
     },
     "output_type": "display_data"
    }
   ],
   "source": [
    "fig, ax = plt.subplots()\n",
    "width = 1\n",
    "x = np.asarray([0, 8, 16, 21])\n",
    "dist = [-1, 0, 1]\n",
    "for c in range(len(condsNew)):\n",
    "    y = list()\n",
    "    ysd = list()\n",
    "    [y.append(np.mean(choiceBetas[condsOld[c]+attsOld[a]])) for a in range(len(attsOld))]\n",
    "    [ysd.append(np.std(choiceBetas[condsOld[c]+attsOld[a]])/np.sqrt(choiceBetas.shape[0])) for a in range(len(attsOld))]\n",
    "    ax.bar(x+np.asarray(dist[c])*width,y,width,label =condsNew[c],color=colors[c])\n",
    "    ax.errorbar(x+np.asarray(dist[c])*width,y,yerr=ysd,ecolor='k',fmt='none')\n",
    "\n",
    "ax.set_ylabel('choice betas',fontdict={'fontsize':16,'fontweight': 'bold'})\n",
    "ax.set_title(study+ ', N='+str(choiceBetas.shape[0]),fontdict={'fontsize':20,'fontweight': 'bold'})\n",
    "ax.set_xticks(x)\n",
    "ax.set_xticklabels(attsNew,fontdict={'fontsize':14,'fontweight': 'bold'})\n",
    "#remove top frame border\n",
    "ax.spines['top'].set_visible(False)\n",
    "#remove right frame border\n",
    "ax.spines['right'].set_visible(False)\n",
    "plt.legend(fontsize = 12, prop = {'weight':'bold'},frameon=False)\n",
    "ax.grid(b=None)\n",
    "plt.show()"
   ]
  },
  {
   "cell_type": "code",
   "execution_count": null,
   "metadata": {},
   "outputs": [],
   "source": []
  }
 ],
 "metadata": {
  "kernelspec": {
   "display_name": "Python 3",
   "language": "python",
   "name": "python3"
  },
  "language_info": {
   "codemirror_mode": {
    "name": "ipython",
    "version": 3
   },
   "file_extension": ".py",
   "mimetype": "text/x-python",
   "name": "python",
   "nbconvert_exporter": "python",
   "pygments_lexer": "ipython3",
   "version": "3.8.2"
  }
 },
 "nbformat": 4,
 "nbformat_minor": 4
}
