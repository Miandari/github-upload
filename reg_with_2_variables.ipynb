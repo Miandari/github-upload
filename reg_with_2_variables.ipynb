{
 "cells": [
  {
   "cell_type": "code",
   "execution_count": 1,
   "metadata": {},
   "outputs": [],
   "source": [
    "from matplotlib import pyplot as plt\n",
    "import pandas as pd\n",
    "import numpy as np\n",
    "from os import path as osp\n",
    "import os\n",
    "import Regression as reg\n",
    "from sklearn.linear_model import LinearRegression"
   ]
  },
  {
   "cell_type": "code",
   "execution_count": 2,
   "metadata": {},
   "outputs": [],
   "source": [
    "Variable_1 = '-health_diff_interact'\n",
    "Variable_2 = '-health_diff'\n",
    "\n",
    "path2csv = \"D:\\Work\\Sampling_attetion\\Azadeh_data\\\\data\\\\\"\n",
    "RegBetascsv = \"D:\\\\Work\\\\Sampling_attetion\\\\Azadeh_data\\\\result\" + \"\\\\result_\" + Variable_1 + Variable_2 + \".csv\"\n",
    "inst = ['nat','health','desire']\n",
    "DV = \"Choice\" "
   ]
  },
  {
   "cell_type": "code",
   "execution_count": 3,
   "metadata": {},
   "outputs": [
    {
     "name": "stdout",
     "output_type": "stream",
     "text": [
      "D:\\Work\\Sampling_attetion\\Azadeh_data\\data\\104.xls\n",
      "D:\\Work\\Sampling_attetion\\Azadeh_data\\data\\105.xls\n",
      "D:\\Work\\Sampling_attetion\\Azadeh_data\\data\\106.xls\n",
      "D:\\Work\\Sampling_attetion\\Azadeh_data\\data\\107.xls\n",
      "D:\\Work\\Sampling_attetion\\Azadeh_data\\data\\111.xls\n",
      "D:\\Work\\Sampling_attetion\\Azadeh_data\\data\\112.xls\n",
      "D:\\Work\\Sampling_attetion\\Azadeh_data\\data\\113.xls\n",
      "D:\\Work\\Sampling_attetion\\Azadeh_data\\data\\114.xls\n",
      "D:\\Work\\Sampling_attetion\\Azadeh_data\\data\\115.xls\n",
      "D:\\Work\\Sampling_attetion\\Azadeh_data\\data\\116.xls\n",
      "D:\\Work\\Sampling_attetion\\Azadeh_data\\data\\117.xls\n",
      "D:\\Work\\Sampling_attetion\\Azadeh_data\\data\\118.xls\n"
     ]
    },
    {
     "ename": "KeyboardInterrupt",
     "evalue": "",
     "output_type": "error",
     "traceback": [
      "\u001b[1;31m---------------------------------------------------------------------------\u001b[0m",
      "\u001b[1;31mKeyboardInterrupt\u001b[0m                         Traceback (most recent call last)",
      "\u001b[1;32m<ipython-input-3-5d8a572c95c9>\u001b[0m in \u001b[0;36m<module>\u001b[1;34m\u001b[0m\n\u001b[0;32m     10\u001b[0m \u001b[1;33m\u001b[0m\u001b[0m\n\u001b[0;32m     11\u001b[0m     \u001b[0mprint\u001b[0m \u001b[1;33m(\u001b[0m\u001b[0mpath2csv\u001b[0m \u001b[1;33m+\u001b[0m \u001b[0mdirList\u001b[0m\u001b[1;33m[\u001b[0m\u001b[0ms\u001b[0m\u001b[1;33m]\u001b[0m\u001b[1;33m)\u001b[0m\u001b[1;33m\u001b[0m\u001b[1;33m\u001b[0m\u001b[0m\n\u001b[1;32m---> 12\u001b[1;33m     \u001b[0mdata\u001b[0m \u001b[1;33m=\u001b[0m \u001b[0mpd\u001b[0m\u001b[1;33m.\u001b[0m\u001b[0mread_excel\u001b[0m\u001b[1;33m(\u001b[0m\u001b[0mpath2csv\u001b[0m \u001b[1;33m+\u001b[0m \u001b[0mdirList\u001b[0m\u001b[1;33m[\u001b[0m\u001b[0ms\u001b[0m\u001b[1;33m]\u001b[0m\u001b[1;33m)\u001b[0m\u001b[1;33m\u001b[0m\u001b[1;33m\u001b[0m\u001b[0m\n\u001b[0m\u001b[0;32m     13\u001b[0m     \u001b[0mRegBetas\u001b[0m\u001b[1;33m[\u001b[0m\u001b[1;34m'Subject'\u001b[0m\u001b[1;33m]\u001b[0m\u001b[1;33m.\u001b[0m\u001b[0mappend\u001b[0m\u001b[1;33m(\u001b[0m\u001b[0mint\u001b[0m\u001b[1;33m(\u001b[0m\u001b[0mdirList\u001b[0m\u001b[1;33m[\u001b[0m\u001b[0ms\u001b[0m\u001b[1;33m]\u001b[0m\u001b[1;33m[\u001b[0m\u001b[1;33m:\u001b[0m\u001b[0mlen\u001b[0m\u001b[1;33m(\u001b[0m\u001b[0mdirList\u001b[0m\u001b[1;33m[\u001b[0m\u001b[1;36m0\u001b[0m\u001b[1;33m]\u001b[0m\u001b[1;33m)\u001b[0m\u001b[1;33m-\u001b[0m\u001b[1;36m4\u001b[0m\u001b[1;33m]\u001b[0m\u001b[1;33m)\u001b[0m\u001b[1;33m)\u001b[0m\u001b[1;33m\u001b[0m\u001b[1;33m\u001b[0m\u001b[0m\n\u001b[0;32m     14\u001b[0m     \u001b[0mdata\u001b[0m \u001b[1;33m=\u001b[0m \u001b[0mdata\u001b[0m\u001b[1;33m.\u001b[0m\u001b[0mdropna\u001b[0m\u001b[1;33m(\u001b[0m\u001b[1;33m)\u001b[0m\u001b[1;33m\u001b[0m\u001b[1;33m\u001b[0m\u001b[0m\n",
      "\u001b[1;32mc:\\users\\miand\\appdata\\local\\programs\\python\\python38-32\\lib\\site-packages\\pandas\\io\\excel\\_base.py\u001b[0m in \u001b[0;36mread_excel\u001b[1;34m(io, sheet_name, header, names, index_col, usecols, squeeze, dtype, engine, converters, true_values, false_values, skiprows, nrows, na_values, keep_default_na, verbose, parse_dates, date_parser, thousands, comment, skipfooter, convert_float, mangle_dupe_cols, **kwds)\u001b[0m\n\u001b[0;32m    309\u001b[0m         )\n\u001b[0;32m    310\u001b[0m \u001b[1;33m\u001b[0m\u001b[0m\n\u001b[1;32m--> 311\u001b[1;33m     return io.parse(\n\u001b[0m\u001b[0;32m    312\u001b[0m         \u001b[0msheet_name\u001b[0m\u001b[1;33m=\u001b[0m\u001b[0msheet_name\u001b[0m\u001b[1;33m,\u001b[0m\u001b[1;33m\u001b[0m\u001b[1;33m\u001b[0m\u001b[0m\n\u001b[0;32m    313\u001b[0m         \u001b[0mheader\u001b[0m\u001b[1;33m=\u001b[0m\u001b[0mheader\u001b[0m\u001b[1;33m,\u001b[0m\u001b[1;33m\u001b[0m\u001b[1;33m\u001b[0m\u001b[0m\n",
      "\u001b[1;32mc:\\users\\miand\\appdata\\local\\programs\\python\\python38-32\\lib\\site-packages\\pandas\\io\\excel\\_base.py\u001b[0m in \u001b[0;36mparse\u001b[1;34m(self, sheet_name, header, names, index_col, usecols, squeeze, converters, true_values, false_values, skiprows, nrows, na_values, parse_dates, date_parser, thousands, comment, skipfooter, convert_float, mangle_dupe_cols, **kwds)\u001b[0m\n\u001b[0;32m    866\u001b[0m             )\n\u001b[0;32m    867\u001b[0m \u001b[1;33m\u001b[0m\u001b[0m\n\u001b[1;32m--> 868\u001b[1;33m         return self._reader.parse(\n\u001b[0m\u001b[0;32m    869\u001b[0m             \u001b[0msheet_name\u001b[0m\u001b[1;33m=\u001b[0m\u001b[0msheet_name\u001b[0m\u001b[1;33m,\u001b[0m\u001b[1;33m\u001b[0m\u001b[1;33m\u001b[0m\u001b[0m\n\u001b[0;32m    870\u001b[0m             \u001b[0mheader\u001b[0m\u001b[1;33m=\u001b[0m\u001b[0mheader\u001b[0m\u001b[1;33m,\u001b[0m\u001b[1;33m\u001b[0m\u001b[1;33m\u001b[0m\u001b[0m\n",
      "\u001b[1;32mc:\\users\\miand\\appdata\\local\\programs\\python\\python38-32\\lib\\site-packages\\pandas\\io\\excel\\_base.py\u001b[0m in \u001b[0;36mparse\u001b[1;34m(self, sheet_name, header, names, index_col, usecols, squeeze, dtype, true_values, false_values, skiprows, nrows, na_values, verbose, parse_dates, date_parser, thousands, comment, skipfooter, convert_float, mangle_dupe_cols, **kwds)\u001b[0m\n\u001b[0;32m    441\u001b[0m                 \u001b[0msheet\u001b[0m \u001b[1;33m=\u001b[0m \u001b[0mself\u001b[0m\u001b[1;33m.\u001b[0m\u001b[0mget_sheet_by_index\u001b[0m\u001b[1;33m(\u001b[0m\u001b[0masheetname\u001b[0m\u001b[1;33m)\u001b[0m\u001b[1;33m\u001b[0m\u001b[1;33m\u001b[0m\u001b[0m\n\u001b[0;32m    442\u001b[0m \u001b[1;33m\u001b[0m\u001b[0m\n\u001b[1;32m--> 443\u001b[1;33m             \u001b[0mdata\u001b[0m \u001b[1;33m=\u001b[0m \u001b[0mself\u001b[0m\u001b[1;33m.\u001b[0m\u001b[0mget_sheet_data\u001b[0m\u001b[1;33m(\u001b[0m\u001b[0msheet\u001b[0m\u001b[1;33m,\u001b[0m \u001b[0mconvert_float\u001b[0m\u001b[1;33m)\u001b[0m\u001b[1;33m\u001b[0m\u001b[1;33m\u001b[0m\u001b[0m\n\u001b[0m\u001b[0;32m    444\u001b[0m             \u001b[0musecols\u001b[0m \u001b[1;33m=\u001b[0m \u001b[0m_maybe_convert_usecols\u001b[0m\u001b[1;33m(\u001b[0m\u001b[0musecols\u001b[0m\u001b[1;33m)\u001b[0m\u001b[1;33m\u001b[0m\u001b[1;33m\u001b[0m\u001b[0m\n\u001b[0;32m    445\u001b[0m \u001b[1;33m\u001b[0m\u001b[0m\n",
      "\u001b[1;32mc:\\users\\miand\\appdata\\local\\programs\\python\\python38-32\\lib\\site-packages\\pandas\\io\\excel\\_xlrd.py\u001b[0m in \u001b[0;36mget_sheet_data\u001b[1;34m(self, sheet, convert_float)\u001b[0m\n\u001b[0;32m    100\u001b[0m             row = [\n\u001b[0;32m    101\u001b[0m                 \u001b[0m_parse_cell\u001b[0m\u001b[1;33m(\u001b[0m\u001b[0mvalue\u001b[0m\u001b[1;33m,\u001b[0m \u001b[0mtyp\u001b[0m\u001b[1;33m)\u001b[0m\u001b[1;33m\u001b[0m\u001b[1;33m\u001b[0m\u001b[0m\n\u001b[1;32m--> 102\u001b[1;33m                 \u001b[1;32mfor\u001b[0m \u001b[0mvalue\u001b[0m\u001b[1;33m,\u001b[0m \u001b[0mtyp\u001b[0m \u001b[1;32min\u001b[0m \u001b[0mzip\u001b[0m\u001b[1;33m(\u001b[0m\u001b[0msheet\u001b[0m\u001b[1;33m.\u001b[0m\u001b[0mrow_values\u001b[0m\u001b[1;33m(\u001b[0m\u001b[0mi\u001b[0m\u001b[1;33m)\u001b[0m\u001b[1;33m,\u001b[0m \u001b[0msheet\u001b[0m\u001b[1;33m.\u001b[0m\u001b[0mrow_types\u001b[0m\u001b[1;33m(\u001b[0m\u001b[0mi\u001b[0m\u001b[1;33m)\u001b[0m\u001b[1;33m)\u001b[0m\u001b[1;33m\u001b[0m\u001b[1;33m\u001b[0m\u001b[0m\n\u001b[0m\u001b[0;32m    103\u001b[0m             ]\n\u001b[0;32m    104\u001b[0m             \u001b[0mdata\u001b[0m\u001b[1;33m.\u001b[0m\u001b[0mappend\u001b[0m\u001b[1;33m(\u001b[0m\u001b[0mrow\u001b[0m\u001b[1;33m)\u001b[0m\u001b[1;33m\u001b[0m\u001b[1;33m\u001b[0m\u001b[0m\n",
      "\u001b[1;32mc:\\users\\miand\\appdata\\local\\programs\\python\\python38-32\\lib\\site-packages\\xlrd\\sheet.py\u001b[0m in \u001b[0;36mrow_values\u001b[1;34m(self, rowx, start_colx, end_colx)\u001b[0m\n\u001b[0;32m    494\u001b[0m         \"\"\"\n\u001b[0;32m    495\u001b[0m         \u001b[1;32mif\u001b[0m \u001b[0mend_colx\u001b[0m \u001b[1;32mis\u001b[0m \u001b[1;32mNone\u001b[0m\u001b[1;33m:\u001b[0m\u001b[1;33m\u001b[0m\u001b[1;33m\u001b[0m\u001b[0m\n\u001b[1;32m--> 496\u001b[1;33m             \u001b[1;32mreturn\u001b[0m \u001b[0mself\u001b[0m\u001b[1;33m.\u001b[0m\u001b[0m_cell_values\u001b[0m\u001b[1;33m[\u001b[0m\u001b[0mrowx\u001b[0m\u001b[1;33m]\u001b[0m\u001b[1;33m[\u001b[0m\u001b[0mstart_colx\u001b[0m\u001b[1;33m:\u001b[0m\u001b[1;33m]\u001b[0m\u001b[1;33m\u001b[0m\u001b[1;33m\u001b[0m\u001b[0m\n\u001b[0m\u001b[0;32m    497\u001b[0m         \u001b[1;32mreturn\u001b[0m \u001b[0mself\u001b[0m\u001b[1;33m.\u001b[0m\u001b[0m_cell_values\u001b[0m\u001b[1;33m[\u001b[0m\u001b[0mrowx\u001b[0m\u001b[1;33m]\u001b[0m\u001b[1;33m[\u001b[0m\u001b[0mstart_colx\u001b[0m\u001b[1;33m:\u001b[0m\u001b[0mend_colx\u001b[0m\u001b[1;33m]\u001b[0m\u001b[1;33m\u001b[0m\u001b[1;33m\u001b[0m\u001b[0m\n\u001b[0;32m    498\u001b[0m \u001b[1;33m\u001b[0m\u001b[0m\n",
      "\u001b[1;31mKeyboardInterrupt\u001b[0m: "
     ]
    }
   ],
   "source": [
    "shortInst = inst\n",
    "dirList = os.listdir(path2csv)\n",
    "RegBetas ={'Subject':[],\n",
    "         shortInst[0]+'-Taste':[],shortInst[0]+'-Health':[], shortInst[0]+ Variable_1:[], shortInst[0]+ Variable_2:[],\\\n",
    "         shortInst[1]+'-Taste':[],shortInst[1]+'-Health':[], shortInst[1]+ Variable_1:[], shortInst[1]+ Variable_2:[],\\\n",
    "         shortInst[2]+'-Taste':[],shortInst[2]+'-Health':[], shortInst[2]+ Variable_1:[], shortInst[2]+ Variable_2:[]}\n",
    "\n",
    "\n",
    "for s in range(len(dirList)):\n",
    "\n",
    "    print (path2csv + dirList[s])\n",
    "    data = pd.read_excel(path2csv + dirList[s]) \n",
    "    RegBetas['Subject'].append(int(dirList[s][:len(dirList[0])-4]))\n",
    "    data = data.dropna()\n",
    "    for ins in shortInst:\n",
    "        cond = data.instruction == inst[shortInst.index(ins)]\n",
    "        X       = np.zeros((len(data.trial[cond]) - 1,4))\n",
    "        data\n",
    "        X[:,0]  = data.taste[cond][1:]\n",
    "        X[:,1]  = data.health[cond][1:]\n",
    "        X[:,2]  = (data.health[cond][1:].reset_index(drop=True) - data.health[cond][1:].mean()) * (data['health'][cond][0:-1].reset_index(drop=True) - data['health'][cond][0:-1].mean())\n",
    "        X[:,3]  = data['taste'][cond][0:-1]\n",
    "\n",
    "        if DV == 'Choice':\n",
    "            Y       = data.choice[data.instruction == inst[shortInst.index(ins)]][1:]\n",
    "            whichTr = [list(~np.isnan(X[:,0]))[t]  and list(~np.isnan(X[:,1]))[t] and\\\n",
    "            list(~np.isnan(Y))[t] for t in range(len(Y))]\n",
    "\n",
    "            if any(whichTr):\n",
    "                Y = Y[whichTr]\n",
    "                X = X[whichTr,:]\n",
    "\n",
    "                reg      = LinearRegression().fit(X,Y)\n",
    "                RegBetas[ins +'-Taste'].append(reg.coef_[0])\n",
    "                RegBetas[ins +'-Health'].append(reg.coef_[1])\n",
    "                RegBetas[ins + Variable_1].append(reg.coef_[2])\n",
    "                RegBetas[ins + Variable_2].append(reg.coef_[3])\n",
    "\n",
    "        elif DV == 'Liking':\n",
    "            Y1       = data.preLiking[data.instruction == inst[shortInst.index(ins)]]\n",
    "            whichTr = [list(~np.isnan(X[:,0]))[t]  and list(~np.isnan(X[:,1]))[t] and\\\n",
    "            list(~np.isnan(Y1))[t] for t in range(len(Y1))]\n",
    "\n",
    "            if any(whichTr):\n",
    "                Y1 = Y1[whichTr]\n",
    "                X1  = X[whichTr,:]\n",
    "                reg      = LinearRegression().fit(X1,Y1)\n",
    "                RegBetas[ins +'-Taste-pre'].append(reg.coef_[0])\n",
    "                RegBetas[ins +'-Health-pre'].append(reg.coef_[1])\n",
    "                RegBetas[ins + Variable_1].append(reg.coef_[2])\n",
    "                RegBetas[ins + Variable_2].append(reg.coef_[3])\n",
    "\n",
    "            Y2       = data.Liking[data.instruction == inst[shortInst.index(ins)]]\n",
    "            whichTr = [list(~np.isnan(X[:,0]))[t]  and list(~np.isnan(X[:,1]))[t] and\\\n",
    "            list(~np.isnan(Y2))[t] for t in range(len(Y2))]\n",
    "\n",
    "            if any(whichTr):\n",
    "                Y2 = Y2[whichTr]\n",
    "                X2  = X[whichTr,:]\n",
    "                reg      = LinearRegression().fit(X2,Y2)\n",
    "                RegBetas[ins +'-Taste-post'].append(reg.coef_[0])\n",
    "                RegBetas[ins +'-Health-post'].append(reg.coef_[1])\n",
    "                RegBetas[ins + Variable_1].append(reg.coef_[2])\n",
    "                RegBetas[ins + Variable_2].append(reg.coef_[3])\n",
    "\n",
    "        elif DV == 'RT':\n",
    "            Y       = data.RT[data.instruction == inst[shortInst.index(ins)]]\n",
    "            whichTr = [list(~np.isnan(X[:,0]))[t]  and list(~np.isnan(X[:,1]))[t] and\\\n",
    "            list(~np.isnan(Y))[t] for t in range(len(Y))]\n",
    "\n",
    "            if any(whichTr):\n",
    "                Y = Y[whichTr]\n",
    "                X = X[whichTr,:]\n",
    "\n",
    "                reg      = LinearRegression().fit(X,Y)\n",
    "                RegBetas[ins+'-Taste'].append(reg.coef_[0])\n",
    "                RegBetas[ins+'-Health'].append(reg.coef_[1])\n",
    "                RegBetas[ins+ Variable_1].append(reg.coef_[2])\n",
    "                RegBetas[ins + Variable_2].append(reg.coef_[3])"
   ]
  },
  {
   "cell_type": "code",
   "execution_count": 60,
   "metadata": {},
   "outputs": [],
   "source": [
    "temp = pd.DataFrame.from_dict(RegBetas)\n",
    "temp.to_csv(RegBetascsv)"
   ]
  },
  {
   "cell_type": "code",
   "execution_count": 61,
   "metadata": {},
   "outputs": [],
   "source": [
    "study='Is there any effect of previous choice?'\n",
    "# plot taste and health weights on choice=\n",
    "choiceBetas = pd.read_csv(\"D:\\\\Work\\\\Sampling_attetion\\\\Azadeh_data\\\\result\" + \"\\\\result_\" + Variable_1 + Variable_2 + \".csv\")\n",
    "#get rid of the Unnamed column\n",
    "choiceBetas = choiceBetas.drop(choiceBetas.columns[0],axis=1)\n",
    "#get rid of - in column labels to be possible to call\n",
    "cols = list(choiceBetas.columns)\n",
    "for c in range(len(cols)):\n",
    "    cols[c] = cols[c].replace('-','')\n",
    "choiceBetas.columns = cols\n",
    "\n",
    "#[cols[c] = cols[c].replace('-','') for c in range(len(cols))]\n",
    "condsOld = ['nat','health','desire']\n",
    "condsNew = ['NATURAL','HEALTH','DESIRE']\n",
    "attsOld  = ['Taste','Health', Variable_1[1:], Variable_2[1:]]\n",
    "attsNew  = ['Tastiness','Healthiness', 'Tastiness diff inter', 'Healthiness diff']\n",
    "colors   = ['royalblue','salmon','gold']"
   ]
  },
  {
   "cell_type": "code",
   "execution_count": 62,
   "metadata": {},
   "outputs": [
    {
     "data": {
      "image/png": "[encoded data removed]",
      "text/plain": [
       "<Figure size 432x288 with 1 Axes>"
      ]
     },
     "metadata": {
      "needs_background": "light"
     },
     "output_type": "display_data"
    }
   ],
   "source": [
    "fig, ax = plt.subplots()\n",
    "width = 1\n",
    "x = np.asarray([0, 8, 16, 21])\n",
    "dist = [-1, 0, 1]\n",
    "for c in range(len(condsNew)):\n",
    "    y = list()\n",
    "    ysd = list()\n",
    "    [y.append(np.mean(choiceBetas[condsOld[c]+attsOld[a]])) for a in range(len(attsOld))]\n",
    "    [ysd.append(np.std(choiceBetas[condsOld[c]+attsOld[a]])/np.sqrt(choiceBetas.shape[0])) for a in range(len(attsOld))]\n",
    "    ax.bar(x+np.asarray(dist[c])*width,y,width,label =condsNew[c],color=colors[c])\n",
    "    ax.errorbar(x+np.asarray(dist[c])*width,y,yerr=ysd,ecolor='k',fmt='none')\n",
    "\n",
    "ax.set_ylabel('choice betas',fontdict={'fontsize':16,'fontweight': 'bold'})\n",
    "ax.set_title(study+ ', N='+str(choiceBetas.shape[0]),fontdict={'fontsize':20,'fontweight': 'bold'})\n",
    "ax.set_xticks(x)\n",
    "ax.set_xticklabels(attsNew,fontdict={'fontsize':14,'fontweight': 'bold'})\n",
    "#remove top frame border\n",
    "ax.spines['top'].set_visible(False)\n",
    "#remove right frame border\n",
    "ax.spines['right'].set_visible(False)\n",
    "plt.legend(fontsize = 12, prop = {'weight':'bold'},frameon=False)\n",
    "ax.grid(b=None)\n",
    "plt.show()"
   ]
  },
  {
   "cell_type": "code",
   "execution_count": null,
   "metadata": {},
   "outputs": [],
   "source": []
  }
 ],
 "metadata": {
  "kernelspec": {
   "display_name": "Python 3",
   "language": "python",
   "name": "python3"
  },
  "language_info": {
   "codemirror_mode": {
    "name": "ipython",
    "version": 3
   },
   "file_extension": ".py",
   "mimetype": "text/x-python",
   "name": "python",
   "nbconvert_exporter": "python",
   "pygments_lexer": "ipython3",
   "version": "3.8.2"
  }
 },
 "nbformat": 4,
 "nbformat_minor": 4
}
