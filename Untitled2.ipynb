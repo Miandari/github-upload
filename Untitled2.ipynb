{
 "cells": [
  {
   "cell_type": "code",
   "execution_count": 1,
   "metadata": {},
   "outputs": [],
   "source": [
    "from matplotlib import pyplot as plt\n",
    "import pandas as pd\n",
    "import numpy as np\n",
    "from os import path as osp\n",
    "import os\n",
    "import Regression as reg\n",
    "from sklearn.linear_model import LinearRegression, LogisticRegression"
   ]
  },
  {
   "cell_type": "code",
   "execution_count": 2,
   "metadata": {},
   "outputs": [],
   "source": [
    "Variable = '-Taste_diff'\n",
    "\n",
    "path2csv = \"D:\\Work\\Sampling_attetion\\Azadeh_data\\\\data\\\\\"\n",
    "RegBetascsv = \"D:\\\\Work\\\\Sampling_attetion\\\\Azadeh_data\\\\result\" + \"\\\\result_\" + Variable + \".csv\"\n",
    "inst = ['nat','health','desire']\n",
    "DV = \"Choice\" "
   ]
  },
  {
   "cell_type": "code",
   "execution_count": 7,
   "metadata": {},
   "outputs": [
    {
     "name": "stdout",
     "output_type": "stream",
     "text": [
      "D:\\Work\\Sampling_attetion\\Azadeh_data\\data\\104.xls\n"
     ]
    }
   ],
   "source": [
    "shortInst = inst\n",
    "dirList = os.listdir(path2csv)\n",
    "RegBetas ={'Subject':[],shortInst[0]+'-Taste':[],shortInst[0]+'-Health':[], shortInst[0]+ Variable:[],\\\n",
    "         shortInst[1]+'-Taste':[],shortInst[1]+'-Health':[], shortInst[1]+ Variable:[],\\\n",
    "         shortInst[2]+'-Taste':[],shortInst[2]+'-Health':[], shortInst[2]+ Variable:[]}\n",
    "\n",
    "print (path2csv + dirList[0])\n",
    "data = pd.read_excel(path2csv + dirList[0]) \n",
    "RegBetas['Subject'].append(int(dirList[0][:len(dirList[0])-4]))\n",
    "data = data.dropna()\n",
    "shortInst = inst"
   ]
  },
  {
   "cell_type": "code",
   "execution_count": 9,
   "metadata": {},
   "outputs": [
    {
     "data": {
      "text/plain": [
       "['nat', 'health', 'desire']"
      ]
     },
     "execution_count": 9,
     "metadata": {},
     "output_type": "execute_result"
    }
   ],
   "source": [
    "shortInst"
   ]
  },
  {
   "cell_type": "code",
   "execution_count": 19,
   "metadata": {},
   "outputs": [
    {
     "ename": "NameError",
     "evalue": "name 'X' is not defined",
     "output_type": "error",
     "traceback": [
      "\u001b[1;31m---------------------------------------------------------------------------\u001b[0m",
      "\u001b[1;31mNameError\u001b[0m                                 Traceback (most recent call last)",
      "\u001b[1;32m<ipython-input-19-e43660f2e5c2>\u001b[0m in \u001b[0;36m<module>\u001b[1;34m\u001b[0m\n\u001b[0;32m      4\u001b[0m \u001b[0mY\u001b[0m\u001b[1;33m[\u001b[0m\u001b[0mY\u001b[0m \u001b[1;33m==\u001b[0m \u001b[1;32mTrue\u001b[0m\u001b[1;33m]\u001b[0m \u001b[1;33m=\u001b[0m \u001b[1;36m1\u001b[0m\u001b[1;33m\u001b[0m\u001b[1;33m\u001b[0m\u001b[0m\n\u001b[0;32m      5\u001b[0m \u001b[0mY\u001b[0m\u001b[1;33m[\u001b[0m\u001b[0mY\u001b[0m \u001b[1;33m==\u001b[0m \u001b[1;32mFalse\u001b[0m\u001b[1;33m]\u001b[0m \u001b[1;33m=\u001b[0m \u001b[1;36m0\u001b[0m\u001b[1;33m\u001b[0m\u001b[1;33m\u001b[0m\u001b[0m\n\u001b[1;32m----> 6\u001b[1;33m whichTr = [list(~np.isnan(X[:,0]))[t]  and list(~np.isnan(X[:,1]))[t] and\\\n\u001b[0m\u001b[0;32m      7\u001b[0m list(~np.isnan(Y))[t] for t in range(len(Y))]\n\u001b[0;32m      8\u001b[0m \u001b[1;33m\u001b[0m\u001b[0m\n",
      "\u001b[1;32m<ipython-input-19-e43660f2e5c2>\u001b[0m in \u001b[0;36m<listcomp>\u001b[1;34m(.0)\u001b[0m\n\u001b[0;32m      4\u001b[0m \u001b[0mY\u001b[0m\u001b[1;33m[\u001b[0m\u001b[0mY\u001b[0m \u001b[1;33m==\u001b[0m \u001b[1;32mTrue\u001b[0m\u001b[1;33m]\u001b[0m \u001b[1;33m=\u001b[0m \u001b[1;36m1\u001b[0m\u001b[1;33m\u001b[0m\u001b[1;33m\u001b[0m\u001b[0m\n\u001b[0;32m      5\u001b[0m \u001b[0mY\u001b[0m\u001b[1;33m[\u001b[0m\u001b[0mY\u001b[0m \u001b[1;33m==\u001b[0m \u001b[1;32mFalse\u001b[0m\u001b[1;33m]\u001b[0m \u001b[1;33m=\u001b[0m \u001b[1;36m0\u001b[0m\u001b[1;33m\u001b[0m\u001b[1;33m\u001b[0m\u001b[0m\n\u001b[1;32m----> 6\u001b[1;33m whichTr = [list(~np.isnan(X[:,0]))[t]  and list(~np.isnan(X[:,1]))[t] and\\\n\u001b[0m\u001b[0;32m      7\u001b[0m list(~np.isnan(Y))[t] for t in range(len(Y))]\n\u001b[0;32m      8\u001b[0m \u001b[1;33m\u001b[0m\u001b[0m\n",
      "\u001b[1;31mNameError\u001b[0m: name 'X' is not defined"
     ]
    }
   ],
   "source": [
    "cond = data.instruction == inst[shortInst.index('nat')]\n",
    "\n",
    "Y = data.choice[cond][1:].reset_index(drop=True) == data.choice[cond][0:-1].reset_index(drop=True)\n",
    "Y[Y == True] = 1\n",
    "Y[Y == False] = 0\n",
    "whichTr = [list(~np.isnan(X[:,0]))[t]  and list(~np.isnan(X[:,1]))[t] and\\\n",
    "list(~np.isnan(Y))[t] for t in range(len(Y))]\n",
    "\n",
    "if any(whichTr):\n",
    "    Y = Y[whichTr]\n",
    "    \n",
    "    \n",
    "    \n",
    "Y"
   ]
  },
  {
   "cell_type": "code",
   "execution_count": null,
   "metadata": {},
   "outputs": [],
   "source": [
    "shortInst = inst\n",
    "dirList = os.listdir(path2csv)\n",
    "RegBetas ={'Subject':[],shortInst[0]+'-Taste':[],shortInst[0]+'-Health':[], shortInst[0]+ Variable:[],\\\n",
    "         shortInst[1]+'-Taste':[],shortInst[1]+'-Health':[], shortInst[1]+ Variable:[],\\\n",
    "         shortInst[2]+'-Taste':[],shortInst[2]+'-Health':[], shortInst[2]+ Variable:[]}\n",
    "\n",
    "\n",
    "for s in range(len(dirList)):\n",
    "\n",
    "    print (path2csv + dirList[s])\n",
    "    data = pd.read_excel(path2csv + dirList[s]) \n",
    "    RegBetas['Subject'].append(int(dirList[s][:len(dirList[0])-4]))\n",
    "    data = data.dropna()\n",
    "    for ins in shortInst:\n",
    "        cond = data.instruction == inst[shortInst.index(ins)]\n",
    "        X       = np.zeros((len(data.trial[cond]) - 1,3))\n",
    "        data\n",
    "        X[:,0]  = data.taste[cond][1:]\n",
    "        X[:,1]  = data.health[cond][1:]\n",
    "        X[:,2]  = data['health'][cond].diff()[0:-1]\n",
    "\n",
    "        if DV == 'Choice':\n",
    "            Y       = data.choice[data.instruction == inst[shortInst.index(ins)]][1:]\n",
    "            whichTr = [list(~np.isnan(X[:,0]))[t]  and list(~np.isnan(X[:,1]))[t] and\\\n",
    "            list(~np.isnan(Y))[t] for t in range(len(Y))]\n",
    "\n",
    "            if any(whichTr):\n",
    "                Y = Y[whichTr]\n",
    "                X = X[whichTr,:]\n",
    "\n",
    "                reg      = LinearRegression().fit(X,Y)\n",
    "                RegBetas[ins +'-Taste'].append(reg.coef_[0])\n",
    "                RegBetas[ins +'-Health'].append(reg.coef_[1])\n",
    "                RegBetas[ins + Variable].append(reg.coef_[2])\n",
    "\n",
    "        elif DV == 'Liking':\n",
    "            Y1       = data.preLiking[data.instruction == inst[shortInst.index(ins)]]\n",
    "            whichTr = [list(~np.isnan(X[:,0]))[t]  and list(~np.isnan(X[:,1]))[t] and\\\n",
    "            list(~np.isnan(Y1))[t] for t in range(len(Y1))]\n",
    "\n",
    "            if any(whichTr):\n",
    "                Y1 = Y1[whichTr]\n",
    "                X1  = X[whichTr,:]\n",
    "                reg      = LinearRegression().fit(X1,Y1)\n",
    "                RegBetas[ins +'-Taste-pre'].append(reg.coef_[0])\n",
    "                RegBetas[ins +'-Health-pre'].append(reg.coef_[1])\n",
    "                RegBetas[ins + Variable].append(reg.coef_[2])\n",
    "\n",
    "            Y2       = data.Liking[data.instruction == inst[shortInst.index(ins)]]\n",
    "            whichTr = [list(~np.isnan(X[:,0]))[t]  and list(~np.isnan(X[:,1]))[t] and\\\n",
    "            list(~np.isnan(Y2))[t] for t in range(len(Y2))]\n",
    "\n",
    "            if any(whichTr):\n",
    "                Y2 = Y2[whichTr]\n",
    "                X2  = X[whichTr,:]\n",
    "                reg      = LinearRegression().fit(X2,Y2)\n",
    "                RegBetas[ins +'-Taste-post'].append(reg.coef_[0])\n",
    "                RegBetas[ins +'-Health-post'].append(reg.coef_[1])\n",
    "                RegBetas[ins + Variable].append(reg.coef_[2])\n",
    "\n",
    "        elif DV == 'RT':\n",
    "            Y       = data.RT[data.instruction == inst[shortInst.index(ins)]]\n",
    "            whichTr = [list(~np.isnan(X[:,0]))[t]  and list(~np.isnan(X[:,1]))[t] and\\\n",
    "            list(~np.isnan(Y))[t] for t in range(len(Y))]\n",
    "\n",
    "            if any(whichTr):\n",
    "                Y = Y[whichTr]\n",
    "                X = X[whichTr,:]\n",
    "\n",
    "                reg      = LinearRegression().fit(X,Y)\n",
    "                RegBetas[ins+'-Taste'].append(reg.coef_[0])\n",
    "                RegBetas[ins+'-Health'].append(reg.coef_[1])\n",
    "                RegBetas[ins+ Variable].append(reg.coef_[2])"
   ]
  }
 ],
 "metadata": {
  "kernelspec": {
   "display_name": "Python 3",
   "language": "python",
   "name": "python3"
  },
  "language_info": {
   "codemirror_mode": {
    "name": "ipython",
    "version": 3
   },
   "file_extension": ".py",
   "mimetype": "text/x-python",
   "name": "python",
   "nbconvert_exporter": "python",
   "pygments_lexer": "ipython3",
   "version": "3.8.2"
  }
 },
 "nbformat": 4,
 "nbformat_minor": 4
}
