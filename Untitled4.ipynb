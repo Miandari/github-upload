{
 "cells": [
  {
   "cell_type": "code",
   "execution_count": 3,
   "metadata": {},
   "outputs": [],
   "source": [
    "from matplotlib import pyplot as plt\n",
    "import pandas as pd\n",
    "import numpy as np\n",
    "from os import path as osp\n",
    "import os\n",
    "import Regression as reg\n",
    "from sklearn.linear_model import LinearRegression\n",
    "from sklearn.linear_model import LogisticRegression\n",
    "import scipy.stats"
   ]
  },
  {
   "cell_type": "code",
   "execution_count": 6,
   "metadata": {},
   "outputs": [],
   "source": [
    "Variable_1 = '-health_diff'\n",
    "Variable_2 = '-taste_diff'\n",
    "\n",
    "path2csv = \"D:\\Work\\Sampling_attetion\\Azadeh_data\\\\data\\\\\"\n",
    "RegBetascsv = \"D:\\\\Work\\\\Sampling_attetion\\\\Azadeh_data\\\\result\" + \"\\\\result_diff\" + Variable_1 + Variable_2 + \".csv\"\n",
    "inst = ['nat','health','desire']\n",
    "DV = \"Choice\" "
   ]
  },
  {
   "cell_type": "code",
   "execution_count": 51,
   "metadata": {},
   "outputs": [],
   "source": [
    "dirList = os.listdir(path2csv)\n",
    "a = []\n",
    "b = []\n",
    "for s in range(len(dirList)):\n",
    "\n",
    "    data = pd.read_excel(path2csv + dirList[s]) \n",
    "    data = data.dropna()\n",
    "    a.append(scipy.stats.pearsonr(data['like-pre'], data['taste'])[0])\n",
    "    b.append(scipy.stats.pearsonr(data['like-pre'], data['health'])[0])\n",
    "\n"
   ]
  },
  {
   "cell_type": "code",
   "execution_count": 54,
   "metadata": {},
   "outputs": [
    {
     "data": {
      "text/plain": [
       "Text(0.5, 1.0, 'taste and like correlation')"
      ]
     },
     "execution_count": 54,
     "metadata": {},
     "output_type": "execute_result"
    },
    {
     "data": {
      "image/png": "[encoded data removed]",
      "text/plain": [
       "<Figure size 432x288 with 1 Axes>"
      ]
     },
     "metadata": {
      "needs_background": "light"
     },
     "output_type": "display_data"
    }
   ],
   "source": [
    "plt.hist(np.array(a))\n",
    "plt.title('taste and like correlation')"
   ]
  },
  {
   "cell_type": "code",
   "execution_count": 55,
   "metadata": {},
   "outputs": [
    {
     "data": {
      "text/plain": [
       "Text(0.5, 1.0, 'health and like correlation')"
      ]
     },
     "execution_count": 55,
     "metadata": {},
     "output_type": "execute_result"
    },
    {
     "data": {
      "image/png": "[encoded data removed]",
      "text/plain": [
       "<Figure size 432x288 with 1 Axes>"
      ]
     },
     "metadata": {
      "needs_background": "light"
     },
     "output_type": "display_data"
    }
   ],
   "source": [
    "plt.hist(np.array(b))\n",
    "plt.title('health and like correlation')"
   ]
  },
  {
   "cell_type": "code",
   "execution_count": 57,
   "metadata": {},
   "outputs": [
    {
     "name": "stdout",
     "output_type": "stream",
     "text": [
      "0\n",
      "1\n"
     ]
    },
    {
     "name": "stderr",
     "output_type": "stream",
     "text": [
      "<ipython-input-57-b6b1e68d22ed>:14: UserWarning: Boolean Series key will be reindexed to match DataFrame index.\n",
      "  a[ins].append(scipy.stats.pearsonr(data[cond]['like-pre'], data[cond]['taste'])[0])\n"
     ]
    },
    {
     "name": "stdout",
     "output_type": "stream",
     "text": [
      "2\n",
      "3\n"
     ]
    },
    {
     "name": "stderr",
     "output_type": "stream",
     "text": [
      "<ipython-input-57-b6b1e68d22ed>:15: UserWarning: Boolean Series key will be reindexed to match DataFrame index.\n",
      "  b[ins].append(scipy.stats.pearsonr(data[cond]['like-pre'], data[cond]['health'])[0])\n"
     ]
    },
    {
     "name": "stdout",
     "output_type": "stream",
     "text": [
      "4\n",
      "5\n",
      "6\n",
      "7\n",
      "8\n",
      "9\n",
      "10\n",
      "11\n",
      "12\n",
      "13\n",
      "14\n",
      "15\n",
      "16\n",
      "17\n",
      "18\n",
      "19\n",
      "20\n",
      "21\n",
      "22\n",
      "23\n",
      "24\n",
      "25\n",
      "26\n",
      "27\n",
      "28\n",
      "29\n",
      "30\n",
      "31\n",
      "32\n",
      "33\n",
      "34\n",
      "35\n",
      "36\n",
      "37\n",
      "38\n",
      "39\n",
      "40\n",
      "41\n",
      "42\n",
      "43\n",
      "44\n",
      "45\n",
      "46\n",
      "47\n",
      "48\n",
      "49\n"
     ]
    }
   ],
   "source": [
    "inst = ['nat','health','desire']\n",
    "shortInst = inst\n",
    "dirList = os.listdir(path2csv)\n",
    "a = {\"nat\": [], 'health': [], 'desire': []}\n",
    "b = {\"nat\": [], 'health': [], 'desire': []}\n",
    "\n",
    "for i, s in enumerate(range(len(dirList))):\n",
    "    print(i)\n",
    "    for ins in shortInst:\n",
    "        cond = data.instruction == inst[shortInst.index(ins)]\n",
    "        data = pd.read_excel(path2csv + dirList[s]) \n",
    "        data = data.dropna()\n",
    "        try:\n",
    "            a[ins].append(scipy.stats.pearsonr(data[cond]['like-pre'], data[cond]['taste'])[0])\n",
    "            b[ins].append(scipy.stats.pearsonr(data[cond]['like-pre'], data[cond]['health'])[0])\n",
    "        except:\n",
    "            continue\n"
   ]
  },
  {
   "cell_type": "code",
   "execution_count": 44,
   "metadata": {},
   "outputs": [
    {
     "data": {
      "text/plain": [
       "Text(0.5, 1.0, 'health and like correlation')"
      ]
     },
     "execution_count": 44,
     "metadata": {},
     "output_type": "execute_result"
    },
    {
     "data": {
      "image/png": "[encoded data removed]",
      "text/plain": [
       "<Figure size 432x288 with 1 Axes>"
      ]
     },
     "metadata": {
      "needs_background": "light"
     },
     "output_type": "display_data"
    }
   ],
   "source": [
    "plt.hist(np.array(a['health']))\n",
    "plt.title('health and like correlation')"
   ]
  },
  {
   "cell_type": "code",
   "execution_count": 33,
   "metadata": {},
   "outputs": [
    {
     "data": {
      "text/plain": [
       "(array([ 1.,  1.,  2.,  3.,  3.,  3., 13., 12.,  8.,  4.]),\n",
       " array([-0.04198618,  0.05013679,  0.14225975,  0.23438272,  0.32650569,\n",
       "         0.41862866,  0.51075162,  0.60287459,  0.69499756,  0.78712053,\n",
       "         0.87924349]),\n",
       " <a list of 10 Patch objects>)"
      ]
     },
     "execution_count": 33,
     "metadata": {},
     "output_type": "execute_result"
    },
    {
     "data": {
      "image/png": "[encoded data removed]",
      "text/plain": [
       "<Figure size 432x288 with 1 Axes>"
      ]
     },
     "metadata": {
      "needs_background": "light"
     },
     "output_type": "display_data"
    }
   ],
   "source": [
    "plt.hist(np.array(a['desire']))\n"
   ]
  },
  {
   "cell_type": "code",
   "execution_count": 34,
   "metadata": {},
   "outputs": [
    {
     "data": {
      "text/plain": [
       "(array([2., 0., 1., 0., 3., 1., 4., 3., 0., 1.]),\n",
       " array([0.14509303, 0.21689873, 0.28870443, 0.36051013, 0.43231583,\n",
       "        0.50412153, 0.57592723, 0.64773293, 0.71953863, 0.79134433,\n",
       "        0.86315003]),\n",
       " <a list of 10 Patch objects>)"
      ]
     },
     "execution_count": 34,
     "metadata": {},
     "output_type": "execute_result"
    },
    {
     "data": {
      "image/png": "[encoded data removed]",
      "text/plain": [
       "<Figure size 432x288 with 1 Axes>"
      ]
     },
     "metadata": {
      "needs_background": "light"
     },
     "output_type": "display_data"
    }
   ],
   "source": [
    "plt.hist(np.array(a['nat']))"
   ]
  },
  {
   "cell_type": "code",
   "execution_count": 35,
   "metadata": {},
   "outputs": [
    {
     "data": {
      "text/plain": [
       "(array([1., 1., 2., 0., 1., 3., 4., 0., 2., 1.]),\n",
       " array([-0.41973697, -0.34376302, -0.26778907, -0.19181512, -0.11584117,\n",
       "        -0.03986722,  0.03610673,  0.11208068,  0.18805463,  0.26402858,\n",
       "         0.34000253]),\n",
       " <a list of 10 Patch objects>)"
      ]
     },
     "execution_count": 35,
     "metadata": {},
     "output_type": "execute_result"
    },
    {
     "data": {
      "image/png": "[encoded data removed]",
      "text/plain": [
       "<Figure size 432x288 with 1 Axes>"
      ]
     },
     "metadata": {
      "needs_background": "light"
     },
     "output_type": "display_data"
    }
   ],
   "source": [
    "plt.hist(np.array(b['nat']))"
   ]
  },
  {
   "cell_type": "code",
   "execution_count": 43,
   "metadata": {},
   "outputs": [
    {
     "data": {
      "text/plain": [
       "(array([ 5.,  3.,  4.,  6., 14.,  3.,  6.,  5.,  0.,  4.]),\n",
       " array([-0.49808052, -0.39057334, -0.28306616, -0.17555898, -0.06805181,\n",
       "         0.03945537,  0.14696255,  0.25446973,  0.36197691,  0.46948409,\n",
       "         0.57699127]),\n",
       " <a list of 10 Patch objects>)"
      ]
     },
     "execution_count": 43,
     "metadata": {},
     "output_type": "execute_result"
    },
    {
     "data": {
      "image/png": "[encoded data removed]",
      "text/plain": [
       "<Figure size 432x288 with 1 Axes>"
      ]
     },
     "metadata": {
      "needs_background": "light"
     },
     "output_type": "display_data"
    }
   ],
   "source": [
    "plt.hist(np.array(b['health']))\n",
    "plt.title('health and like correlation in ')"
   ]
  },
  {
   "cell_type": "code",
   "execution_count": 56,
   "metadata": {},
   "outputs": [
    {
     "ename": "TypeError",
     "evalue": "list indices must be integers or slices, not str",
     "output_type": "error",
     "traceback": [
      "\u001b[1;31m---------------------------------------------------------------------------\u001b[0m",
      "\u001b[1;31mTypeError\u001b[0m                                 Traceback (most recent call last)",
      "\u001b[1;32m<ipython-input-56-f62a9d043289>\u001b[0m in \u001b[0;36m<module>\u001b[1;34m\u001b[0m\n\u001b[1;32m----> 1\u001b[1;33m \u001b[0mplt\u001b[0m\u001b[1;33m.\u001b[0m\u001b[0mhist\u001b[0m\u001b[1;33m(\u001b[0m\u001b[0mnp\u001b[0m\u001b[1;33m.\u001b[0m\u001b[0marray\u001b[0m\u001b[1;33m(\u001b[0m\u001b[0mb\u001b[0m\u001b[1;33m[\u001b[0m\u001b[1;34m'desire'\u001b[0m\u001b[1;33m]\u001b[0m\u001b[1;33m)\u001b[0m\u001b[1;33m)\u001b[0m\u001b[1;33m\u001b[0m\u001b[1;33m\u001b[0m\u001b[0m\n\u001b[0m",
      "\u001b[1;31mTypeError\u001b[0m: list indices must be integers or slices, not str"
     ]
    }
   ],
   "source": [
    "plt.hist(np.array(b['desire']))"
   ]
  },
  {
   "cell_type": "code",
   "execution_count": 40,
   "metadata": {},
   "outputs": [
    {
     "data": {
      "text/plain": [
       "{'nat': [0.6067596642053616,\n",
       "  0.8631500294784749,\n",
       "  0.7054898632927497,\n",
       "  0.6094635307969536,\n",
       "  0.14509302890355533,\n",
       "  0.4926313628254521,\n",
       "  0.6382483754253929,\n",
       "  0.7135986585918566,\n",
       "  0.5428640477353094,\n",
       "  0.6269799971114287,\n",
       "  0.7002277933304696,\n",
       "  0.35043103118959007,\n",
       "  0.4506449366599412,\n",
       "  0.49446530704193514,\n",
       "  0.19650781745380308],\n",
       " 'health': [0.5378853212050801,\n",
       "  0.8414083094500145,\n",
       "  0.605374669086399,\n",
       "  0.4697692122645633,\n",
       "  0.7688970373872085,\n",
       "  0.8620417736816559,\n",
       "  0.5268584215179384,\n",
       "  0.726035824169736,\n",
       "  0.7587630229268503,\n",
       "  0.7971509248978381,\n",
       "  0.38491006923542614,\n",
       "  0.5153136002300007,\n",
       "  0.03106842072121005,\n",
       "  0.6479185683513327,\n",
       "  0.7709724226913663,\n",
       "  0.7070311263707684,\n",
       "  0.9018765904307996,\n",
       "  0.40973057467198115,\n",
       "  0.540987608420121,\n",
       "  0.5395180140474245,\n",
       "  0.7129311794649481,\n",
       "  0.6913712877000343,\n",
       "  0.6226128584564155,\n",
       "  0.528431348492951,\n",
       "  0.5867888406583326,\n",
       "  0.552886118104228,\n",
       "  0.5350643998115056,\n",
       "  0.3553715426179703,\n",
       "  0.3826707989135175,\n",
       "  0.5731792620685965,\n",
       "  0.4964528682499225,\n",
       "  0.7756765134131375,\n",
       "  0.7738462840484132,\n",
       "  0.601489022068373,\n",
       "  0.6381699044859682,\n",
       "  0.42166198930778387,\n",
       "  0.7238451145111162,\n",
       "  0.31885478167100445,\n",
       "  0.6442516555114405,\n",
       "  0.13953730100679862,\n",
       "  0.60580665452378,\n",
       "  0.6439397749328868,\n",
       "  0.13780889285789955,\n",
       "  0.8170946407970566,\n",
       "  0.5553240513574895,\n",
       "  0.5875637765574933,\n",
       "  0.6148408719277438,\n",
       "  0.7501185401440108,\n",
       "  0.17133069613002574,\n",
       "  0.40440506639339807],\n",
       " 'desire': [0.5527083865041219,\n",
       "  0.6879143742076412,\n",
       "  0.7744574141041907,\n",
       "  0.5375865923333889,\n",
       "  0.8587898632454966,\n",
       "  0.8792434934035801,\n",
       "  0.5958296535790654,\n",
       "  0.7389749744917382,\n",
       "  0.6701526119278408,\n",
       "  0.7307253452554868,\n",
       "  0.19287116614990332,\n",
       "  0.5691698883270206,\n",
       "  0.11941976596278603,\n",
       "  0.776240512330243,\n",
       "  0.5560776810768218,\n",
       "  0.44711296125163386,\n",
       "  0.8522986322239211,\n",
       "  0.4963797036288114,\n",
       "  0.34817457250051154,\n",
       "  0.4834499605974418,\n",
       "  0.6647967141156329,\n",
       "  0.6776477905147016,\n",
       "  0.6334374086116318,\n",
       "  0.6283674662687782,\n",
       "  0.5162211966303071,\n",
       "  0.41171034813808244,\n",
       "  0.5387828096202436,\n",
       "  -0.04198618042373246,\n",
       "  0.7060357665713676,\n",
       "  0.6606032404265788,\n",
       "  0.6004860600841632,\n",
       "  0.8054319063201827,\n",
       "  0.7297104913420556,\n",
       "  0.6426294577114879,\n",
       "  0.565007178544574,\n",
       "  0.27927087635887765,\n",
       "  0.7104763014805291,\n",
       "  0.21967655148308532,\n",
       "  0.6497227361330244,\n",
       "  0.5439580212839326,\n",
       "  0.5328057544231994,\n",
       "  0.6206061991955386,\n",
       "  0.32398821682485457,\n",
       "  0.6627423748215895,\n",
       "  0.6597516140572175,\n",
       "  0.5598602049880741,\n",
       "  0.5388302312553913,\n",
       "  0.7397742700477412,\n",
       "  0.3055295542354216,\n",
       "  0.3325748873043718]}"
      ]
     },
     "execution_count": 40,
     "metadata": {},
     "output_type": "execute_result"
    }
   ],
   "source": [
    "a"
   ]
  },
  {
   "cell_type": "code",
   "execution_count": null,
   "metadata": {},
   "outputs": [],
   "source": []
  }
 ],
 "metadata": {
  "kernelspec": {
   "display_name": "Python 3",
   "language": "python",
   "name": "python3"
  },
  "language_info": {
   "codemirror_mode": {
    "name": "ipython",
    "version": 3
   },
   "file_extension": ".py",
   "mimetype": "text/x-python",
   "name": "python",
   "nbconvert_exporter": "python",
   "pygments_lexer": "ipython3",
   "version": "3.8.2"
  }
 },
 "nbformat": 4,
 "nbformat_minor": 4
}
