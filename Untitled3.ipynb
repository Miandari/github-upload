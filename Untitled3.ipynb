{
 "cells": [
  {
   "cell_type": "code",
   "execution_count": 12,
   "metadata": {},
   "outputs": [],
   "source": [
    "from matplotlib import pyplot as plt\n",
    "import pandas as pd\n",
    "import numpy as np\n",
    "from os import path as osp\n",
    "import os\n",
    "import Regression as reg\n",
    "from sklearn.linear_model import LinearRegression\n",
    "from sklearn.linear_model import LogisticRegression\n",
    "from sklearn.model_selection import train_test_split"
   ]
  },
  {
   "cell_type": "code",
   "execution_count": 2,
   "metadata": {},
   "outputs": [],
   "source": [
    "Variable_1 = '-health_diff'\n",
    "Variable_2 = '-taste_diff'\n",
    "\n",
    "path2csv = \"D:\\Work\\Sampling_attetion\\Azadeh_data\\\\data\\\\\"\n",
    "RegBetascsv = \"D:\\\\Work\\\\Sampling_attetion\\\\Azadeh_data\\\\result\" + \"\\\\result_diff\" + Variable_1 + Variable_2 + \".csv\"\n",
    "inst = ['nat','health','desire']\n",
    "DV = \"Choice\" "
   ]
  },
  {
   "cell_type": "code",
   "execution_count": 3,
   "metadata": {},
   "outputs": [
    {
     "data": {
      "text/plain": [
       "['nat', 'health', 'desire']"
      ]
     },
     "execution_count": 3,
     "metadata": {},
     "output_type": "execute_result"
    }
   ],
   "source": [
    "shortInst = inst\n",
    "inst"
   ]
  },
  {
   "cell_type": "code",
   "execution_count": 7,
   "metadata": {},
   "outputs": [],
   "source": [
    "shortInst = inst\n",
    "dirList = os.listdir(path2csv)\n",
    "data = pd.read_excel(path2csv + dirList[0]) \n",
    "data = data.dropna()\n",
    "\n",
    "cond = data.instruction == inst[shortInst.index('desire')]\n",
    "\n",
    "X       = np.zeros((len(data.trial[cond]) - 1,4))\n",
    "data\n",
    "X[:,0]  = data.taste[cond]\n",
    "X[:,1]  = data.health[cond]\n",
    "X[:,2]  = data['health'][cond]\n",
    "X[:,3]  = data['taste'][cond]\n",
    "\n",
    "\n",
    "Y = data.choice[cond] == \n",
    "Y[Y == True] = 1\n",
    "Y[Y == False] = 0\n",
    "x_train, x_test, y_train, y_test = train_test_split(X, Y, test_size=0.25, random_state=0)\n",
    "logisticRegr = LogisticRegression()\n",
    "logisticRegr.fit(x_train, y_train)\n",
    "y_hat = logisticRegr.predict(x_test)\n",
    "np.sum(y_hat == y_test) / len(y_test)"
   ]
  },
  {
   "cell_type": "code",
   "execution_count": 8,
   "metadata": {},
   "outputs": [],
   "source": [
    "x_train, x_test, y_train, y_test = train_test_split(X, Y, test_size=0.25, random_state=0)"
   ]
  },
  {
   "cell_type": "code",
   "execution_count": 13,
   "metadata": {},
   "outputs": [
    {
     "data": {
      "text/plain": [
       "LogisticRegression()"
      ]
     },
     "execution_count": 13,
     "metadata": {},
     "output_type": "execute_result"
    }
   ],
   "source": [
    "logisticRegr = LogisticRegression()\n",
    "logisticRegr.fit(x_train, y_train)"
   ]
  },
  {
   "cell_type": "code",
   "execution_count": 16,
   "metadata": {},
   "outputs": [],
   "source": [
    "y_hat = logisticRegr.predict(x_test)"
   ]
  },
  {
   "cell_type": "code",
   "execution_count": 19,
   "metadata": {},
   "outputs": [
    {
     "data": {
      "text/plain": [
       "0.75"
      ]
     },
     "execution_count": 19,
     "metadata": {},
     "output_type": "execute_result"
    }
   ],
   "source": [
    "np.sum(y_hat == y_test) / len(y_test)"
   ]
  },
  {
   "cell_type": "code",
   "execution_count": 55,
   "metadata": {},
   "outputs": [
    {
     "data": {
      "text/plain": [
       "['nat', 'health', 'desire']"
      ]
     },
     "execution_count": 55,
     "metadata": {},
     "output_type": "execute_result"
    }
   ],
   "source": [
    "shortInst"
   ]
  },
  {
   "cell_type": "code",
   "execution_count": 56,
   "metadata": {},
   "outputs": [],
   "source": [
    "a = {\"nat\": [], 'health': [], 'desire': []}\n",
    "for s in range(len(dirList)):\n",
    "\n",
    "    \n",
    "    data = pd.read_excel(path2csv + dirList[s]) \n",
    "    data = data.dropna()\n",
    "    for ins in shortInst:\n",
    "        shortInst = inst\n",
    "        dirList = os.listdir(path2csv)\n",
    "        data = pd.read_excel(path2csv + dirList[s]) \n",
    "        data = data.dropna()\n",
    "\n",
    "        cond = data.instruction == inst[shortInst.index(ins)]\n",
    "\n",
    "        X       = np.zeros((len(data.trial[cond]) - 1,9))\n",
    "        X[:,0]  = data.taste[cond][1:]\n",
    "        X[:,1]  = data.health[cond][1:]\n",
    "        X[:,2]  = data['like-pre'][cond][1:]\n",
    "        X[:,3]  = data['like-post'][cond][1:]\n",
    "        \n",
    "        X[:,4]  = data.choice[cond].diff()[1:]\n",
    "        X[:,5]  = data.taste[cond].diff()[1:]\n",
    "        X[:,6]  = data.health[cond].diff()[1:]\n",
    "\n",
    "        \n",
    "        Y = data.choice[cond] [1:]\n",
    "        Y[Y == 1] = 1\n",
    "        Y[Y == 2] = 1\n",
    "        Y[Y == -1] = 0\n",
    "        Y[Y == -2] = 0\n",
    "        try:\n",
    "            x_train, x_test, y_train, y_test = train_test_split(X, Y, test_size=0.25, random_state=0)\n",
    "            logisticRegr = LogisticRegression()\n",
    "            logisticRegr.fit(x_train, y_train)\n",
    "            y_hat = logisticRegr.predict(x_test)\n",
    "            a[ins].append(np.sum(y_hat == y_test) / len(y_test))\n",
    "        except:\n",
    "            continue"
   ]
  },
  {
   "cell_type": "code",
   "execution_count": 65,
   "metadata": {},
   "outputs": [
    {
     "name": "stdout",
     "output_type": "stream",
     "text": [
      "0.9520679175475687\n",
      "0.05244447149775267\n"
     ]
    }
   ],
   "source": [
    "print(np.mean(a['desire']))\n",
    "print(np.std(a['desire']))"
   ]
  },
  {
   "cell_type": "code",
   "execution_count": 68,
   "metadata": {},
   "outputs": [
    {
     "name": "stdout",
     "output_type": "stream",
     "text": [
      "0.9410663780663779\n",
      "0.04417479643540659\n"
     ]
    }
   ],
   "source": [
    "print(np.mean(a['health']))\n",
    "print(np.std(a['health']))"
   ]
  },
  {
   "cell_type": "code",
   "execution_count": 69,
   "metadata": {},
   "outputs": [
    {
     "data": {
      "text/plain": [
       "[0.9318181818181818,\n",
       " 0.9555555555555556,\n",
       " 0.9777777777777777,\n",
       " 0.8888888888888888,\n",
       " 0.8888888888888888,\n",
       " 0.9777777777777777,\n",
       " 0.9111111111111111,\n",
       " 0.9333333333333333,\n",
       " 0.9555555555555556,\n",
       " 0.9777777777777777,\n",
       " 0.9555555555555556,\n",
       " 0.8888888888888888,\n",
       " 0.9555555555555556,\n",
       " 0.8888888888888888,\n",
       " 0.9555555555555556,\n",
       " 0.8888888888888888,\n",
       " 0.9555555555555556,\n",
       " 0.8181818181818182,\n",
       " 0.9772727272727273,\n",
       " 0.9285714285714286,\n",
       " 0.9777777777777777,\n",
       " 1.0,\n",
       " 0.9111111111111111,\n",
       " 1.0,\n",
       " 0.9555555555555556,\n",
       " 0.9777777777777777,\n",
       " 1.0,\n",
       " 0.9555555555555556,\n",
       " 0.9777777777777777,\n",
       " 0.9333333333333333,\n",
       " 0.9333333333333333,\n",
       " 0.9772727272727273,\n",
       " 0.8888888888888888,\n",
       " 0.9555555555555556,\n",
       " 0.9333333333333333,\n",
       " 1.0,\n",
       " 0.8666666666666667,\n",
       " 0.8888888888888888,\n",
       " 0.9333333333333333,\n",
       " 0.9555555555555556,\n",
       " 0.8222222222222222,\n",
       " 0.8888888888888888,\n",
       " 0.9111111111111111,\n",
       " 0.9772727272727273,\n",
       " 0.9318181818181818,\n",
       " 0.9777777777777777,\n",
       " 1.0,\n",
       " 1.0,\n",
       " 0.9777777777777777,\n",
       " 0.9333333333333333]"
      ]
     },
     "execution_count": 69,
     "metadata": {},
     "output_type": "execute_result"
    }
   ],
   "source": [
    "a['health']"
   ]
  },
  {
   "cell_type": "code",
   "execution_count": 63,
   "metadata": {},
   "outputs": [
    {
     "name": "stdout",
     "output_type": "stream",
     "text": [
      "0.9438441558441559\n",
      "0.0378260319487851\n"
     ]
    }
   ],
   "source": [
    "print(np.mean(a['nat']))\n",
    "print(np.std(a['nat']))"
   ]
  },
  {
   "cell_type": "code",
   "execution_count": 70,
   "metadata": {},
   "outputs": [
    {
     "data": {
      "text/plain": [
       "[0.9555555555555556,\n",
       " 0.9555555555555556,\n",
       " 0.9777777777777777,\n",
       " 0.9318181818181818,\n",
       " 0.9555555555555556,\n",
       " 0.9555555555555556,\n",
       " 0.9555555555555556,\n",
       " 0.9555555555555556,\n",
       " 0.9555555555555556,\n",
       " 0.9111111111111111,\n",
       " 0.8666666666666667,\n",
       " 0.9333333333333333,\n",
       " 0.9111111111111111,\n",
       " 0.9111111111111111,\n",
       " 0.9777777777777777,\n",
       " 0.9555555555555556,\n",
       " 0.9111111111111111,\n",
       " 0.8222222222222222,\n",
       " 0.9333333333333333,\n",
       " 0.9285714285714286,\n",
       " 0.8888888888888888,\n",
       " 1.0,\n",
       " 0.9111111111111111,\n",
       " 1.0,\n",
       " 1.0,\n",
       " 0.9111111111111111,\n",
       " 0.9777777777777777,\n",
       " 0.9333333333333333,\n",
       " 0.9777777777777777,\n",
       " 0.9555555555555556,\n",
       " 0.9333333333333333,\n",
       " 0.9333333333333333,\n",
       " 0.9777777777777777,\n",
       " 1.0,\n",
       " 0.8888888888888888,\n",
       " 1.0,\n",
       " 0.9111111111111111,\n",
       " 0.9333333333333333,\n",
       " 0.9555555555555556,\n",
       " 0.9777777777777777,\n",
       " 0.9777777777777777,\n",
       " 0.9555555555555556,\n",
       " 0.9777777777777777,\n",
       " 0.9318181818181818,\n",
       " 0.9333333333333333,\n",
       " 0.8888888888888888,\n",
       " 1.0,\n",
       " 0.9777777777777777,\n",
       " 0.9111111111111111,\n",
       " 0.9111111111111111]"
      ]
     },
     "execution_count": 70,
     "metadata": {},
     "output_type": "execute_result"
    }
   ],
   "source": [
    "a['nat']"
   ]
  },
  {
   "cell_type": "code",
   "execution_count": 39,
   "metadata": {},
   "outputs": [
    {
     "data": {
      "text/plain": [
       "Index(['trial', 'instruction', 'rt', 'choice', 'taste', 'health', 'like-post',\n",
       "       'like-pre'],\n",
       "      dtype='object')"
      ]
     },
     "execution_count": 39,
     "metadata": {},
     "output_type": "execute_result"
    }
   ],
   "source": [
    "data.columns"
   ]
  },
  {
   "cell_type": "code",
   "execution_count": null,
   "metadata": {},
   "outputs": [],
   "source": []
  }
 ],
 "metadata": {
  "kernelspec": {
   "display_name": "Python 3",
   "language": "python",
   "name": "python3"
  },
  "language_info": {
   "codemirror_mode": {
    "name": "ipython",
    "version": 3
   },
   "file_extension": ".py",
   "mimetype": "text/x-python",
   "name": "python",
   "nbconvert_exporter": "python",
   "pygments_lexer": "ipython3",
   "version": "3.8.2"
  }
 },
 "nbformat": 4,
 "nbformat_minor": 4
}
